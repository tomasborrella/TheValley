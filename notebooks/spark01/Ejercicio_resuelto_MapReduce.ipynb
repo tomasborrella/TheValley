{
  "nbformat": 4,
  "nbformat_minor": 0,
  "metadata": {
    "colab": {
      "name": "Ejercicio_MapReduce.ipynb",
      "provenance": [],
      "toc_visible": true,
      "authorship_tag": "ABX9TyN+vTEiILBYzu75olddtUNF",
      "include_colab_link": true
    },
    "kernelspec": {
      "name": "python3",
      "display_name": "Python 3"
    },
    "language_info": {
      "name": "python"
    }
  },
  "cells": [
    {
      "cell_type": "markdown",
      "metadata": {
        "id": "view-in-github",
        "colab_type": "text"
      },
      "source": [
        "<a href=\"https://colab.research.google.com/github/tomasborrella/TheValley/blob/main/notebooks/spark01/Ejercicio_resuelto_MapReduce.ipynb\" target=\"_parent\"><img src=\"https://colab.research.google.com/assets/colab-badge.svg\" alt=\"Open In Colab\"/></a>"
      ]
    },
    {
      "cell_type": "markdown",
      "metadata": {
        "id": "cYic-d9q_qZ4"
      },
      "source": [
        "# Ejercicio resuelto de MapReduce con Python\n",
        "\n",
        "Notebook por [Tomás Borrella Martín](https://www.linkedin.com/in/tomasborrella/).\n",
        "\n",
        "### Enlaces de interés\n",
        "*   [Slides de presentación](https://docs.google.com/presentation/d/10HZGQnFNzRO63I9XRt-uQa6K9K2yAM71Wu-SYB0TL7c/edit?usp=sharing)"
      ]
    },
    {
      "cell_type": "markdown",
      "metadata": {
        "id": "i8YNep9JB4ca"
      },
      "source": [
        "## 1. Datos\n",
        "Descargamos un archivo que contiene una canción en cada fila (simplificado para el ejemplo).\n",
        "\n",
        "NOTA: En un notebook, \"!\" ejecuta comandos del sistema desde dentro del notebook."
      ]
    },
    {
      "cell_type": "code",
      "metadata": {
        "colab": {
          "base_uri": "https://localhost:8080/"
        },
        "id": "Y1DkCsdfHKPZ",
        "outputId": "c7b4ea6c-f169-4d98-f761-fc4b1248289d"
      },
      "source": [
        "!wget -P /content/data 'https://raw.githubusercontent.com/tomasborrella/TheValley/main/data/spark01/complete_songs_log.txt' "
      ],
      "execution_count": 1,
      "outputs": [
        {
          "output_type": "stream",
          "text": [
            "--2021-06-05 09:41:38--  https://raw.githubusercontent.com/tomasborrella/TheValley/main/data/spark01/complete_songs_log.txt\n",
            "Resolving raw.githubusercontent.com (raw.githubusercontent.com)... 185.199.108.133, 185.199.109.133, 185.199.110.133, ...\n",
            "Connecting to raw.githubusercontent.com (raw.githubusercontent.com)|185.199.108.133|:443... connected.\n",
            "HTTP request sent, awaiting response... 200 OK\n",
            "Length: 126125 (123K) [text/plain]\n",
            "Saving to: ‘/content/data/complete_songs_log.txt’\n",
            "\n",
            "complete_songs_log. 100%[===================>] 123.17K  --.-KB/s    in 0.04s   \n",
            "\n",
            "2021-06-05 09:41:38 (3.16 MB/s) - ‘/content/data/complete_songs_log.txt’ saved [126125/126125]\n",
            "\n"
          ],
          "name": "stdout"
        }
      ]
    },
    {
      "cell_type": "markdown",
      "metadata": {
        "id": "POSFyxgMjUZ-"
      },
      "source": [
        "Mostramos el contenido del archivo"
      ]
    },
    {
      "cell_type": "code",
      "metadata": {
        "colab": {
          "base_uri": "https://localhost:8080/"
        },
        "id": "6_3cSSLijN0-",
        "outputId": "9c234d87-7937-4662-8fb4-82f3e40906fd"
      },
      "source": [
        "# Las primeras 5 líneas\n",
        "! head -n 5 /content/data/complete_songs_log.txt"
      ],
      "execution_count": 4,
      "outputs": [
        {
          "output_type": "stream",
          "text": [
            "Blinding Lights, The Weeknd, 1590851957, Tomas, Spain\n",
            "Dance Monkey, Tones and I, 1590851960, John, USA\n",
            "Blinding Lights, The Weeknd, 1590851957, Tomas, Spain\n",
            "Dance Monkey, Tones and I, 1590851960, John, USA\n",
            "The Box, Roddy Ricch, 1590851961, Sarah, Canada\n"
          ],
          "name": "stdout"
        }
      ]
    },
    {
      "cell_type": "code",
      "metadata": {
        "colab": {
          "base_uri": "https://localhost:8080/"
        },
        "id": "PcPV9eY8jclu",
        "outputId": "575c87de-ccb1-4086-8e0c-006508e14789"
      },
      "source": [
        "# Las últimas 5 líneas\n",
        "! tail -n 5 /content/data/complete_songs_log.txt"
      ],
      "execution_count": 5,
      "outputs": [
        {
          "output_type": "stream",
          "text": [
            "Blinding Lights, The Weeknd, 1590851957, Tomas, Spain\n",
            "Blinding Lights, The Weeknd, 1590851957, Tomas, Spain\n",
            "Dance Monkey, Tones and I, 1590851960, John, USA\n",
            "Blinding Lights, The Weeknd, 1590851957, Tomas, Spain\n",
            "The Box, Roddy Ricch, 1590851961, Sarah, Canada"
          ],
          "name": "stdout"
        }
      ]
    },
    {
      "cell_type": "code",
      "metadata": {
        "colab": {
          "base_uri": "https://localhost:8080/"
        },
        "id": "S2Gpg4QejgWB",
        "outputId": "ea5e3c5c-71b8-4d08-acd8-7e9c5b3b97d7"
      },
      "source": [
        "# Vemos cuantas líneas tiene en total\n",
        "! wc -l /content/data/complete_songs_log.txt"
      ],
      "execution_count": 6,
      "outputs": [
        {
          "output_type": "stream",
          "text": [
            "2468 /content/data/complete_songs_log.txt\n"
          ],
          "name": "stdout"
        }
      ]
    },
    {
      "cell_type": "markdown",
      "metadata": {
        "id": "XQeBiljDCCzO"
      },
      "source": [
        "## 2. Instalamos la librería que vamos a usar para el ejemplo\n",
        "mrjob es un paquete que permite ejecutar MapReduce jobs con Python\n",
        "\n",
        "[Documentación oficial](https://mrjob.readthedocs.io/en/latest/index.html#)"
      ]
    },
    {
      "cell_type": "code",
      "metadata": {
        "colab": {
          "base_uri": "https://localhost:8080/"
        },
        "id": "T6hLH0G7m5uU",
        "outputId": "96e2888a-f38e-4132-cf20-33c65574b69a"
      },
      "source": [
        "! pip install mrjob"
      ],
      "execution_count": 7,
      "outputs": [
        {
          "output_type": "stream",
          "text": [
            "Collecting mrjob\n",
            "\u001b[?25l  Downloading https://files.pythonhosted.org/packages/8e/58/fc28ab743aba16e90736ad4e29694bd2adaf7b879376ff149306d50c4e90/mrjob-0.7.4-py2.py3-none-any.whl (439kB)\n",
            "\u001b[K     |████████████████████████████████| 440kB 3.9MB/s \n",
            "\u001b[?25hRequirement already satisfied: PyYAML>=3.10 in /usr/local/lib/python3.7/dist-packages (from mrjob) (3.13)\n",
            "Installing collected packages: mrjob\n",
            "Successfully installed mrjob-0.7.4\n"
          ],
          "name": "stdout"
        }
      ]
    },
    {
      "cell_type": "markdown",
      "metadata": {
        "id": "-piGZyskCgEz"
      },
      "source": [
        "## 3. Creamos el archivo del programa"
      ]
    },
    {
      "cell_type": "code",
      "metadata": {
        "colab": {
          "base_uri": "https://localhost:8080/"
        },
        "id": "W0Uaj1sYnAKN",
        "outputId": "18b1324b-4d99-45bb-edb0-8ad51c274e3c"
      },
      "source": [
        "%%file wordcount_final.py\n",
        "# %%file: \"magic function\" que guarda el contenido de una celda a un archivo\n",
        "\n",
        "# Importamos la librería mrjob\n",
        "from mrjob.job import MRJob \n",
        "\n",
        "# Creamos una clase que hereda de MRJob\n",
        "class MRSongCount(MRJob):\n",
        "    \n",
        "    # En la fase de Map cada linea del archivo de texto se lee como una pareja \n",
        "    # clave valor (key, value) que son los parámetros 2 y 3 del \"mapper\".\n",
        "    # En este caso cada linea no contiene ninguna key sino solo el valor, \n",
        "    # por eso usamos _ como segundo parámetro (campo key).\n",
        "\n",
        "    def mapper(self, _, line):\n",
        "        line_splited = line.split(\", \")\n",
        "        song = line_splited[0]\n",
        "        # La salida es una dupla (nombre_cancion, 1) \n",
        "        yield (song, 1)\n",
        "\n",
        "    # En la fase de Reduce se combina cada dupla con la misma clave.\n",
        "    # (en el ejemplo la clave es el nombre de la canción)\n",
        "    # En este caso la forma de combinarlo es sumando, lo que nos dará\n",
        "    # el total de reproducciones de cada canción\n",
        "    \n",
        "    def reducer(self, key, values):\n",
        "        # La salida es una dupla (nombre_cancion, suma_de_reproducciones)\n",
        "        yield (key, sum(values))\n",
        "        \n",
        "if __name__ == \"__main__\":\n",
        "    MRSongCount.run()"
      ],
      "execution_count": 8,
      "outputs": [
        {
          "output_type": "stream",
          "text": [
            "Writing wordcount_final.py\n"
          ],
          "name": "stdout"
        }
      ]
    },
    {
      "cell_type": "markdown",
      "metadata": {
        "id": "-KiaioTBCoVa"
      },
      "source": [
        "## 4. Ejecutamos el programa"
      ]
    },
    {
      "cell_type": "code",
      "metadata": {
        "colab": {
          "base_uri": "https://localhost:8080/"
        },
        "id": "eokLfGNlnFia",
        "outputId": "d622ef79-df65-4890-a822-1a7a772e43e2"
      },
      "source": [
        "# run the code as a terminal command\n",
        "! python wordcount_final.py /content/data/complete_songs_log.txt"
      ],
      "execution_count": 9,
      "outputs": [
        {
          "output_type": "stream",
          "text": [
            "No configs found; falling back on auto-configuration\n",
            "No configs specified for inline runner\n",
            "Creating temp directory /tmp/wordcount_final.root.20210605.094501.479240\n",
            "Running step 1 of 1...\n",
            "job output is in /tmp/wordcount_final.root.20210605.094501.479240/output\n",
            "Streaming final output from /tmp/wordcount_final.root.20210605.094501.479240/output...\n",
            "\"Blinding Lights\"\t1131\n",
            "\"The Box\"\t510\n",
            "\"Dance Monkey\"\t828\n",
            "Removing temp directory /tmp/wordcount_final.root.20210605.094501.479240...\n"
          ],
          "name": "stdout"
        }
      ]
    }
  ]
}