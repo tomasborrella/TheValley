{
  "nbformat": 4,
  "nbformat_minor": 0,
  "metadata": {
    "colab": {
      "name": "Introduccion_Spark_DataFrames.ipynb",
      "provenance": [],
      "collapsed_sections": [],
      "authorship_tag": "ABX9TyMqavYWpxugXOIEskK4FQYN",
      "include_colab_link": true
    },
    "kernelspec": {
      "name": "python3",
      "display_name": "Python 3"
    },
    "language_info": {
      "name": "python"
    }
  },
  "cells": [
    {
      "cell_type": "markdown",
      "metadata": {
        "id": "view-in-github",
        "colab_type": "text"
      },
      "source": [
        "<a href=\"https://colab.research.google.com/github/tomasborrella/TheValley/blob/main/notebooks/mds%2B3/spark02/Introduccion_Spark_DataFrames.ipynb\" target=\"_parent\"><img src=\"https://colab.research.google.com/assets/colab-badge.svg\" alt=\"Open In Colab\"/></a>"
      ]
    },
    {
      "cell_type": "markdown",
      "metadata": {
        "id": "SeQLYo17pIcm"
      },
      "source": [
        "### Introducción Spark DataFrames\n",
        "\n",
        "Notebook por [Tomás Borrella Martín](https://www.linkedin.com/in/tomasborrella/).\n",
        "\n",
        "### Enlaces de interés\n",
        "*   [Slides de presentación](https://docs.google.com/presentation/d/1QApmeKaSXYb8dZdN8WahO4cZ6cft7OupncHW_DijsdA/edit?usp=sharing)"
      ]
    },
    {
      "cell_type": "markdown",
      "metadata": {
        "id": "tnun5POxh_hX"
      },
      "source": [
        "# 1. Instalación Spark"
      ]
    },
    {
      "cell_type": "code",
      "metadata": {
        "id": "uuJjskSn9KeV"
      },
      "source": [
        "# Install JAVA\n",
        "!apt-get install openjdk-8-jdk-headless -qq > /dev/null"
      ],
      "execution_count": null,
      "outputs": []
    },
    {
      "cell_type": "code",
      "metadata": {
        "id": "1oTR3cFa9ORq"
      },
      "source": [
        "# Install Spark\n",
        "!wget -q https://downloads.apache.org/spark/spark-3.1.2/spark-3.1.2-bin-hadoop2.7.tgz\n",
        "!tar xf spark-3.1.2-bin-hadoop2.7.tgz"
      ],
      "execution_count": null,
      "outputs": []
    },
    {
      "cell_type": "code",
      "metadata": {
        "id": "ZZPnAX8i9XDc"
      },
      "source": [
        "# Install findspark\n",
        "!pip install -q findspark"
      ],
      "execution_count": null,
      "outputs": []
    },
    {
      "cell_type": "code",
      "metadata": {
        "id": "OI4QagUl9fy7"
      },
      "source": [
        "# Environment variables\n",
        "import os \n",
        "os.environ[\"JAVA_HOME\"] = \"/usr/lib/jvm/java-8-openjdk-amd64\"\n",
        "os.environ[\"SPARK_HOME\"] = \"/content/spark-3.1.2-bin-hadoop2.7\""
      ],
      "execution_count": null,
      "outputs": []
    },
    {
      "cell_type": "code",
      "metadata": {
        "id": "Sov8DPmr9nhE"
      },
      "source": [
        "# Find spark\n",
        "import findspark\n",
        "findspark.init()"
      ],
      "execution_count": null,
      "outputs": []
    },
    {
      "cell_type": "code",
      "metadata": {
        "id": "4g4Frp0P9q5c"
      },
      "source": [
        "# PySpark \n",
        "!pip install pyspark==3.1.2"
      ],
      "execution_count": null,
      "outputs": []
    },
    {
      "cell_type": "markdown",
      "metadata": {
        "id": "SpQZYF3RieR1"
      },
      "source": [
        "# 2. Spark Session\n",
        "Punto de entrada de la aplicación de Spark"
      ]
    },
    {
      "cell_type": "code",
      "metadata": {
        "id": "haPHnvwf9-Mz"
      },
      "source": [
        "# Imports\n",
        "from pyspark.sql import SparkSession"
      ],
      "execution_count": null,
      "outputs": []
    },
    {
      "cell_type": "code",
      "metadata": {
        "id": "BuhcSzKETDLL"
      },
      "source": [
        "# Create Spark Session\n",
        "spark = (SparkSession\n",
        "         .builder\n",
        "         .master(\"local[*]\")\n",
        "         .appName(\"Spark Dataframes\")\n",
        "         .getOrCreate()\n",
        ")"
      ],
      "execution_count": null,
      "outputs": []
    },
    {
      "cell_type": "code",
      "metadata": {
        "id": "sRxzlGwr-JGl"
      },
      "source": [
        "# Show config\n",
        "spark.sparkContext.getConf().getAll()"
      ],
      "execution_count": null,
      "outputs": []
    },
    {
      "cell_type": "markdown",
      "metadata": {
        "id": "1akpXVgirGqu"
      },
      "source": [
        "# Cargar datos en un DataFrame"
      ]
    },
    {
      "cell_type": "markdown",
      "metadata": {
        "id": "HjpDsZupgDPW"
      },
      "source": [
        "## CSV"
      ]
    },
    {
      "cell_type": "code",
      "metadata": {
        "id": "I7z-5gcxgFjw"
      },
      "source": [
        "# Descargamos los datos desde Github al entorno de Colab\n",
        "!wget -P /content/data 'https://raw.githubusercontent.com/tomasborrella/TheValley/main/data/spark02/pokedex.csv'"
      ],
      "execution_count": null,
      "outputs": []
    },
    {
      "cell_type": "markdown",
      "metadata": {
        "id": "3hkASbMOAvfF"
      },
      "source": [
        "Leemos el archivo con `SparkSession.read.csv`\n",
        "\n",
        "Al leer un archivo externo con Spark crea un DataFrame\n",
        "\n",
        "[Documentación oficial de read](https://spark.apache.org/docs/latest/api/python/reference/api/pyspark.sql.SparkSession.read.html#pyspark.sql.SparkSession.read)"
      ]
    },
    {
      "cell_type": "code",
      "metadata": {
        "id": "x0eAdJSsgjSr"
      },
      "source": [
        "pokedex = spark.read.csv('/content/data/pokedex.csv')"
      ],
      "execution_count": null,
      "outputs": []
    },
    {
      "cell_type": "markdown",
      "metadata": {
        "id": "bwO2lARmAphh"
      },
      "source": [
        "Comprobamos de qué tipo es el objeto que ha creado (DataFrame):"
      ]
    },
    {
      "cell_type": "code",
      "metadata": {
        "id": "h3rkvza9-CDx"
      },
      "source": [
        "type(pokedex)"
      ],
      "execution_count": null,
      "outputs": []
    },
    {
      "cell_type": "markdown",
      "metadata": {
        "id": "LcjQrkeSBDa9"
      },
      "source": [
        "Mostramos información de su esquema con printSchema\n",
        "\n",
        "[Documentación oficial de printSchema](https://spark.apache.org/docs/latest/api/python/reference/api/pyspark.sql.DataFrame.printSchema.html#pyspark.sql.DataFrame.printSchema)"
      ]
    },
    {
      "cell_type": "code",
      "metadata": {
        "id": "BwOaqtYP-HdX"
      },
      "source": [
        "pokedex.printSchema()"
      ],
      "execution_count": null,
      "outputs": []
    },
    {
      "cell_type": "markdown",
      "metadata": {
        "id": "0EhSFzQBDBtX"
      },
      "source": [
        "Mostramos el contenido con la acción `show`, que muestra por defecto las primeras 20 líneas del dataframe, pero admite el número de líneas como parámetro.\n",
        "\n",
        "[Documentación oficial de show](https://spark.apache.org/docs/latest/api/python/reference/api/pyspark.sql.DataFrame.show.html)"
      ]
    },
    {
      "cell_type": "code",
      "metadata": {
        "id": "ld8eRQXdhAgl"
      },
      "source": [
        "pokedex.show(5)"
      ],
      "execution_count": null,
      "outputs": []
    },
    {
      "cell_type": "markdown",
      "metadata": {
        "id": "_2yfJZg0hLtB"
      },
      "source": [
        "**¿Qué ha pasado?**\n",
        "\n",
        "Respuesta:"
      ]
    },
    {
      "cell_type": "code",
      "metadata": {
        "id": "hit5pYpuUulr"
      },
      "source": [
        "!echo \"UG9yIGRlZmVjdG8gY29uc2lkZXJhIHF1ZSBlbCBmaWNoZXJvIGRlIGRhdG9zIG5vIHRpZW5lIGNhYmVjZXJhIHkgcG9yIHRhbnRvIGhhIGNyZWlkbyBxdWUgbGEgY2FiZWNlcmEgZXMgbGEgcHJpbWVyYSBmaWxhIGRlIGRhdG9zLiBIYXkgcXVlIGVzcGVjaWZpY8OhcnNlbG8gZW4gbGEgbGVjdHVyYS4=\" | base64 --decode"
      ],
      "execution_count": null,
      "outputs": []
    },
    {
      "cell_type": "code",
      "metadata": {
        "id": "gdHWUqXIVJ9v"
      },
      "source": [
        "!echo \"cG9rZWRleCA9IHNwYXJrLnJlYWQuY3N2KCcvY29udGVudC9kYXRhL3Bva2VkZXguY3N2JywgaGVhZGVyPVRydWUp\" | base64 --decode"
      ],
      "execution_count": null,
      "outputs": []
    },
    {
      "cell_type": "code",
      "metadata": {
        "id": "rjHvM7iOhgjr"
      },
      "source": [
        "pokedex.printSchema()"
      ],
      "execution_count": null,
      "outputs": []
    },
    {
      "cell_type": "code",
      "metadata": {
        "id": "rGpABDcphpMh"
      },
      "source": [
        "pokedex.show(5)"
      ],
      "execution_count": null,
      "outputs": []
    },
    {
      "cell_type": "markdown",
      "metadata": {
        "id": "G29_i-G4HN26"
      },
      "source": [
        "Ya podemos trabajar con el DataFrame, por ejemplo podríamos contar el número de registros con `count`.\n",
        "\n",
        "[Documentación oficial de count](https://spark.apache.org/docs/latest/api/python/reference/api/pyspark.sql.DataFrame.count.html#pyspark.sql.DataFrame.count)"
      ]
    },
    {
      "cell_type": "code",
      "metadata": {
        "id": "-E29UakKAHiJ"
      },
      "source": [
        "pokedex.count()"
      ],
      "execution_count": null,
      "outputs": []
    },
    {
      "cell_type": "markdown",
      "metadata": {
        "id": "kmi8OPkPiA98"
      },
      "source": [
        "Pero si nos fijamos en el esquema veremos que ha considerado todas las columnas de tipo *string* (es el comportamiento por defecto). Si conocemos el formato de los datos, podemos especificarle el esquema."
      ]
    },
    {
      "cell_type": "code",
      "metadata": {
        "id": "jdQA3vw_iOSy"
      },
      "source": [
        "from pyspark.sql.types import StructType, IntegerType, StringType, BooleanType\n",
        "\n",
        "schema = (\n",
        "    StructType() \n",
        "    .add(\"Index\",IntegerType(),True) \n",
        "    .add(\"Name\",StringType(),True) \n",
        "    .add(\"Type1\",StringType(),True) \n",
        "    .add(\"Type2\",StringType(),True) \n",
        "    .add(\"Total\",IntegerType(),True) \n",
        "    .add(\"HP\",IntegerType(),True) \n",
        "    .add(\"Attack\",IntegerType(),True) \n",
        "    .add(\"Defense\",IntegerType(),True) \n",
        "    .add(\"SpecialAtk\",IntegerType(),True) \n",
        "    .add(\"SpecialDef\",IntegerType(),True) \n",
        "    .add(\"Speed\",IntegerType(),True) \n",
        "    .add(\"Generation\",IntegerType(),True) \n",
        "    .add(\"Legendary\",BooleanType(),True)\n",
        ")\n",
        " \n",
        "pokedex = spark.read.csv('/content/data/pokedex.csv', header=True, schema=schema)\n",
        "pokedex.printSchema()"
      ],
      "execution_count": null,
      "outputs": []
    },
    {
      "cell_type": "markdown",
      "metadata": {
        "id": "p8oE5g-1BO3z"
      },
      "source": [
        "Podemos calcular estadísticas básicas de las columnas con el método `describe`. Es una transformación y por lo tanto es *lazy*\n",
        "\n",
        "[Documentación oficial de describe](https://spark.apache.org/docs/latest/api/python/reference/api/pyspark.sql.DataFrame.describe.html#pyspark.sql.DataFrame.describe)"
      ]
    },
    {
      "cell_type": "code",
      "metadata": {
        "id": "8fKRfpA0-Uus"
      },
      "source": [
        "pokedex.describe()"
      ],
      "execution_count": null,
      "outputs": []
    },
    {
      "cell_type": "markdown",
      "metadata": {
        "id": "OUznGVvKCgJc"
      },
      "source": [
        "Es necesesario utilizar la acción `show` para que realice los cálculos y muestre el resultado"
      ]
    },
    {
      "cell_type": "code",
      "metadata": {
        "id": "S5qO4casFcet"
      },
      "source": [
        "pokedex.describe().show()"
      ],
      "execution_count": null,
      "outputs": []
    },
    {
      "cell_type": "markdown",
      "metadata": {
        "id": "VKVtVdmrpEdK"
      },
      "source": [
        "## CSV (más de un archivo)"
      ]
    },
    {
      "cell_type": "code",
      "metadata": {
        "id": "9_pnxMyZpJFa"
      },
      "source": [
        "# Descargamos 2 archivos desde Github al entorno de Colab (ambos en la misma carpeta)\n",
        "!wget -P /content/data/pokedex 'https://raw.githubusercontent.com/tomasborrella/TheValley/main/data/spark02/pokedex_part1.csv'\n",
        "!wget -P /content/data/pokedex 'https://raw.githubusercontent.com/tomasborrella/TheValley/main/data/spark02/pokedex_part2.csv'"
      ],
      "execution_count": null,
      "outputs": []
    },
    {
      "cell_type": "markdown",
      "metadata": {
        "id": "CUxHMKCepp6m"
      },
      "source": [
        "Indicando el directorio Spark cargará todos los archivos de esa ruta"
      ]
    },
    {
      "cell_type": "code",
      "metadata": {
        "id": "7oGpfXX2phEm"
      },
      "source": [
        "df = spark.read.csv('/content/data/pokedex/', header=True, schema=schema)\n",
        "df.printSchema()"
      ],
      "execution_count": null,
      "outputs": []
    },
    {
      "cell_type": "code",
      "metadata": {
        "id": "f5FeT1Utp4UL"
      },
      "source": [
        "df.count()"
      ],
      "execution_count": null,
      "outputs": []
    },
    {
      "cell_type": "markdown",
      "metadata": {
        "id": "RZGAmlWVtBYV"
      },
      "source": [
        "## Ejercicio propuesto\n",
        "\n",
        "El csv está un poco \"raro\", tiene la siguiente forma:"
      ]
    },
    {
      "cell_type": "markdown",
      "metadata": {
        "id": "TPgsy81Pujb3"
      },
      "source": [
        "![image.png](data:image/png;base64,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)"
      ]
    },
    {
      "cell_type": "markdown",
      "metadata": {
        "id": "mQHFEkE2uiMV"
      },
      "source": [
        "Mirar en la documentación de Spark (en este [enlace](https://spark.apache.org/docs/latest/api/java/org/apache/spark/sql/DataFrameReader.html#csv-scala.collection.Seq-)) qué opciones habría que usar para leerlo"
      ]
    },
    {
      "cell_type": "code",
      "metadata": {
        "id": "NKyap2mAtFKg"
      },
      "source": [
        "# Descargamos el archivos desde Github al entorno de Colab\n",
        "!wget -P /content/data 'https://raw.githubusercontent.com/tomasborrella/TheValley/main/data/spark02/pokedex_raro.csv'"
      ],
      "execution_count": null,
      "outputs": []
    },
    {
      "cell_type": "markdown",
      "metadata": {
        "id": "dzTRai5OwdQG"
      },
      "source": [
        "Solución:\n",
        "\n"
      ]
    },
    {
      "cell_type": "code",
      "metadata": {
        "id": "PcEEd6iNVXqR"
      },
      "source": [
        "!echo \"ZGYgPSAoc3BhcmsucmVhZAogICAgICAub3B0aW9uKCJoZWFkZXIiLCBUcnVlKQogICAgICAub3B0aW9uKCJzZXAiLCAifCIpCiAgICAgIC5vcHRpb24oInF1b3RlIiwgImAiKQogICAgICAuY3N2KCcvY29udGVudC9kYXRhL3Bva2VkZXhfcmFyby5jc3YnKQogICAgICAp\" | base64 --decode"
      ],
      "execution_count": null,
      "outputs": []
    },
    {
      "cell_type": "markdown",
      "metadata": {
        "id": "f8nBP_uowqPi"
      },
      "source": [
        "## json"
      ]
    },
    {
      "cell_type": "markdown",
      "metadata": {
        "id": "o17BJO6RP76D"
      },
      "source": [
        "json tiene un formato semi-estructurado y su esquema no es estricto, lo que significa que no sabemos los nombres de los campos ni los tipos de datos que podemos esperar hasta que no hayamos leido el fichero completo. Esto puede suponer un problema (de rendimiento) si el archivo es muy grande. Para mitigarlo podemos usar la opción `samplingRatio` o especificar el esquema, si lo conocemos.\n",
        "\n",
        "[Documentación oficial](https://spark.apache.org/docs/latest/api/java/org/apache/spark/sql/DataFrameReader.html#json-scala.collection.Seq-)"
      ]
    },
    {
      "cell_type": "markdown",
      "metadata": {
        "id": "0zTlEmtvHs8x"
      },
      "source": [
        "![image.png](data:image/png;base64,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)"
      ]
    },
    {
      "cell_type": "code",
      "metadata": {
        "id": "shskq4JD9bLd"
      },
      "source": [
        "# Descargamos los datos desde Github al entorno de Colab\n",
        "!wget -P /content/data 'https://raw.githubusercontent.com/tomasborrella/TheValley/main/data/spark02/songs_log_small.json'"
      ],
      "execution_count": null,
      "outputs": []
    },
    {
      "cell_type": "code",
      "metadata": {
        "id": "Sy_JythH560j"
      },
      "source": [
        "# Cargamos los datos en Spark\n",
        "user_log = spark.read.json('/content/data/songs_log_small.json')"
      ],
      "execution_count": null,
      "outputs": []
    },
    {
      "cell_type": "code",
      "metadata": {
        "id": "nPPZ0YkC5_8h"
      },
      "source": [
        "user_log.printSchema()"
      ],
      "execution_count": null,
      "outputs": []
    },
    {
      "cell_type": "code",
      "metadata": {
        "id": "twGZAe6fQw8P"
      },
      "source": [
        "user_log.show(5)"
      ],
      "execution_count": null,
      "outputs": []
    },
    {
      "cell_type": "markdown",
      "metadata": {
        "id": "XJO-CIecGBD8"
      },
      "source": [
        "# Guardar datos"
      ]
    },
    {
      "cell_type": "markdown",
      "metadata": {
        "id": "NGM3JO4xICxX"
      },
      "source": [
        "Para escribir datos se utiliza `write`\n",
        "\n",
        "[Documentación oficial de write](https://spark.apache.org/docs/latest/api/python/reference/api/pyspark.sql.DataFrame.write.html#pyspark.sql.DataFrame.write)"
      ]
    },
    {
      "cell_type": "markdown",
      "metadata": {
        "id": "fQb8CwfxSAXG"
      },
      "source": [
        "Un dataframe que hemos creado partiendo de un json podemos guardarlo como un csv o en cualquier otro formato soportado por Spark."
      ]
    },
    {
      "cell_type": "code",
      "metadata": {
        "id": "TMAjaV1x-9XK"
      },
      "source": [
        "user_log.write.save('data/songs_log_small.csv', format='csv', header=True)"
      ],
      "execution_count": null,
      "outputs": []
    },
    {
      "cell_type": "markdown",
      "metadata": {
        "id": "ZfvkiRwMIthD"
      },
      "source": [
        "Después de escribir el csv, volvemos a leerlo como comprobación"
      ]
    },
    {
      "cell_type": "code",
      "metadata": {
        "id": "rWk2C_58_sP6"
      },
      "source": [
        "user_log_2 = spark.read.csv('data/songs_log_small.csv', header=True)"
      ],
      "execution_count": null,
      "outputs": []
    },
    {
      "cell_type": "code",
      "metadata": {
        "id": "3C83VIzD_1-8"
      },
      "source": [
        "user_log_2.printSchema()"
      ],
      "execution_count": null,
      "outputs": []
    },
    {
      "cell_type": "markdown",
      "metadata": {
        "id": "QJefaBzFGw7z"
      },
      "source": [
        "Si queremos obtener registros como una lista podemos usar take\n",
        "\n",
        "[Documentación oficial de take](https://spark.apache.org/docs/latest/api/python/reference/api/pyspark.sql.DataFrame.take.html#pyspark.sql.DataFrame.take)"
      ]
    },
    {
      "cell_type": "code",
      "metadata": {
        "id": "No4pu93W_4KU"
      },
      "source": [
        "user_log_2.take(3)"
      ],
      "execution_count": null,
      "outputs": []
    },
    {
      "cell_type": "code",
      "metadata": {
        "id": "_B9m6R6U_8iR"
      },
      "source": [
        "user_log_2.count()"
      ],
      "execution_count": null,
      "outputs": []
    },
    {
      "cell_type": "markdown",
      "metadata": {
        "id": "lUnm88f9Sq3e"
      },
      "source": [
        "Desde luego hemos sido capaces de leer el archivo que hemos creado desde el DataFrame, y todo parece correcto. Ahora vamos a comprobarlo en el sistema de archivos... **¿Qué es lo que ha pasado?**"
      ]
    },
    {
      "cell_type": "markdown",
      "metadata": {
        "id": "0ldBck9RGMpn"
      },
      "source": [
        "Respuesta: "
      ]
    },
    {
      "cell_type": "code",
      "metadata": {
        "id": "cBmgYUekVdML"
      },
      "source": [
        "!echo \"VGVuZHJlbW9zIHRhbnRvcyBhcmNoaXZvcyBjb21vIHBhcnRpY2lvbmVzIHR1dmnDqXJhbW9zIChlbiBlc3RlIGNhc28gMikuIExlZXIgZGlzdGludG9zIGFyY2hpdm9zIG5vIGVzIHByb2JsZW1hIHBhcmEgU3BhcmssIHBvcnF1ZSB5YSBoZW1vcyB2aXN0byBlbiB1biBlamVtcGxvIHByZXZpbyBxdWUgcG9kZW1vcyBsZWVyIHRvZG9zIGxvcyBjc3YgcXVlIGVzdMOpbiBlbiB1bmEgbWlzbWEgY2FycGV0YS4=\" | base64 --decode"
      ],
      "execution_count": null,
      "outputs": []
    },
    {
      "cell_type": "markdown",
      "metadata": {
        "id": "-rqmoY_hToiJ"
      },
      "source": [
        "Si quisiéramos tener un único archivo, tendríamos que reparticionar los datos usando `coallesce(1)`\n",
        "\n",
        "[Documentación oficial coallesce](https://spark.apache.org/docs/latest/api/python/reference/api/pyspark.sql.DataFrame.coalesce.html#pyspark.sql.DataFrame.coalesce)"
      ]
    },
    {
      "cell_type": "code",
      "metadata": {
        "id": "wjEbO9pXFN8e"
      },
      "source": [
        "user_log.coalesce(1).write.save('data/songs_log_small_one.csv', format='csv', header=True)"
      ],
      "execution_count": null,
      "outputs": []
    },
    {
      "cell_type": "markdown",
      "metadata": {
        "id": "9XSc9RBqsQgb"
      },
      "source": [
        "# Spark Stop"
      ]
    },
    {
      "cell_type": "code",
      "metadata": {
        "id": "hxHm2F98TkLx"
      },
      "source": [
        "spark.stop()"
      ],
      "execution_count": null,
      "outputs": []
    }
  ]
}