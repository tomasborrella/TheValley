{
  "nbformat": 4,
  "nbformat_minor": 0,
  "metadata": {
    "colab": {
      "name": "Ejercicio_resuelto_MapReduce.ipynb",
      "provenance": [],
      "toc_visible": true,
      "collapsed_sections": [],
      "authorship_tag": "ABX9TyPizzjAZCYHaiJn6OeidsJy",
      "include_colab_link": true
    },
    "kernelspec": {
      "name": "python3",
      "display_name": "Python 3"
    },
    "language_info": {
      "name": "python"
    }
  },
  "cells": [
    {
      "cell_type": "markdown",
      "metadata": {
        "id": "view-in-github",
        "colab_type": "text"
      },
      "source": [
        "<a href=\"https://colab.research.google.com/github/tomasborrella/TheValley/blob/main/notebooks/mds%2B2/spark01/Ejercicio_resuelto_MapReduce.ipynb\" target=\"_parent\"><img src=\"https://colab.research.google.com/assets/colab-badge.svg\" alt=\"Open In Colab\"/></a>"
      ]
    },
    {
      "cell_type": "markdown",
      "metadata": {
        "id": "cYic-d9q_qZ4"
      },
      "source": [
        "# Ejercicio resuelto de MapReduce con Python\n",
        "\n",
        "Notebook por [Tomás Borrella Martín](https://www.linkedin.com/in/tomasborrella/).\n",
        "\n",
        "### Enlaces de interés\n",
        "*   [Slides de presentación](https://docs.google.com/presentation/d/1yMDJfOO1xrOKyoodBF4_nI9ozdKim1OpfjFonuWNX00/edit?usp=sharing)"
      ]
    },
    {
      "cell_type": "markdown",
      "metadata": {
        "id": "i8YNep9JB4ca"
      },
      "source": [
        "## 1. Datos\n",
        "Descargamos un archivo que contiene una canción en cada fila (simplificado para el ejemplo).\n",
        "\n",
        "NOTA: En un notebook, \"!\" ejecuta comandos del sistema desde dentro del notebook."
      ]
    },
    {
      "cell_type": "code",
      "metadata": {
        "id": "Y1DkCsdfHKPZ"
      },
      "source": [
        "!wget -P /content/data 'https://raw.githubusercontent.com/tomasborrella/TheValley/main/data/spark01/complete_songs_log.txt' "
      ],
      "execution_count": null,
      "outputs": []
    },
    {
      "cell_type": "markdown",
      "metadata": {
        "id": "POSFyxgMjUZ-"
      },
      "source": [
        "Mostramos el contenido del archivo"
      ]
    },
    {
      "cell_type": "code",
      "metadata": {
        "id": "6_3cSSLijN0-"
      },
      "source": [
        "# Las primeras 5 líneas\n",
        "! head -n 5 /content/data/complete_songs_log.txt"
      ],
      "execution_count": null,
      "outputs": []
    },
    {
      "cell_type": "code",
      "metadata": {
        "colab": {
          "base_uri": "https://localhost:8080/"
        },
        "id": "PcPV9eY8jclu",
        "outputId": "4af7f531-493f-46cd-88d7-d37d4c71249e"
      },
      "source": [
        "# Las últimas 5 líneas\n",
        "! tail -n 5 /content/data/complete_songs_log.txt"
      ],
      "execution_count": 1,
      "outputs": [
        {
          "output_type": "stream",
          "name": "stdout",
          "text": [
            "tail: cannot open '/content/data/complete_songs_log.txt' for reading: No such file or directory\n"
          ]
        }
      ]
    },
    {
      "cell_type": "code",
      "metadata": {
        "id": "S2Gpg4QejgWB"
      },
      "source": [
        "# Vemos cuantas líneas tiene en total\n",
        "! wc -l /content/data/complete_songs_log.txt"
      ],
      "execution_count": null,
      "outputs": []
    },
    {
      "cell_type": "markdown",
      "metadata": {
        "id": "XQeBiljDCCzO"
      },
      "source": [
        "## 2. Instalamos la librería que vamos a usar\n",
        "mrjob es un paquete que permite ejecutar MapReduce jobs con Python\n",
        "\n",
        "[Documentación oficial](https://mrjob.readthedocs.io/en/latest/index.html#)"
      ]
    },
    {
      "cell_type": "code",
      "metadata": {
        "id": "T6hLH0G7m5uU"
      },
      "source": [
        "! pip install mrjob"
      ],
      "execution_count": null,
      "outputs": []
    },
    {
      "cell_type": "markdown",
      "metadata": {
        "id": "-piGZyskCgEz"
      },
      "source": [
        "## 3. Creamos el archivo del programa"
      ]
    },
    {
      "cell_type": "code",
      "metadata": {
        "id": "W0Uaj1sYnAKN"
      },
      "source": [
        "%%file wordcount_final.py\n",
        "# %%file: \"magic function\" que guarda el contenido de una celda a un archivo\n",
        "\n",
        "# Importamos la librería mrjob\n",
        "from mrjob.job import MRJob \n",
        "\n",
        "# Creamos una clase que hereda de MRJob\n",
        "class MRSongCount(MRJob):\n",
        "    \n",
        "    # En la fase de Map cada linea del archivo de texto se lee como una pareja \n",
        "    # clave valor (key, value) que son los parámetros 2 y 3 del \"mapper\".\n",
        "    # En este caso cada linea no contiene ninguna key sino solo el valor, \n",
        "    # por eso usamos _ como segundo parámetro (campo key).\n",
        "\n",
        "    def mapper(self, _, line):\n",
        "        line_splited = line.split(\", \")\n",
        "        song = line_splited[0]\n",
        "        # La salida es una dupla (nombre_cancion, 1) \n",
        "        yield (song, 1)\n",
        "\n",
        "    # En la fase de Reduce se combina cada dupla con la misma clave.\n",
        "    # (en el ejemplo la clave es el nombre de la canción)\n",
        "    # En este caso la forma de combinarlo es sumando, lo que nos dará\n",
        "    # el total de reproducciones de cada canción\n",
        "    \n",
        "    def reducer(self, key, values):\n",
        "        # La salida es una dupla (nombre_cancion, suma_de_reproducciones)\n",
        "        yield (key, sum(values))\n",
        "        \n",
        "if __name__ == \"__main__\":\n",
        "    MRSongCount.run()"
      ],
      "execution_count": null,
      "outputs": []
    },
    {
      "cell_type": "markdown",
      "metadata": {
        "id": "-KiaioTBCoVa"
      },
      "source": [
        "## 4. Ejecutamos el programa"
      ]
    },
    {
      "cell_type": "code",
      "metadata": {
        "id": "eokLfGNlnFia"
      },
      "source": [
        "# run the code as a terminal command\n",
        "! python wordcount_final.py /content/data/complete_songs_log.txt"
      ],
      "execution_count": null,
      "outputs": []
    }
  ]
}