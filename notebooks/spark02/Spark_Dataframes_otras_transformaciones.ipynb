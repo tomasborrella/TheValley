{
  "nbformat": 4,
  "nbformat_minor": 0,
  "metadata": {
    "colab": {
      "name": "Spark_Dataframes_otras_transformaciones.ipynb",
      "provenance": [],
      "collapsed_sections": [
        "tnun5POxh_hX",
        "SpQZYF3RieR1"
      ],
      "toc_visible": true,
      "authorship_tag": "ABX9TyNMTT8L97COiCNR5kuRnKQY",
      "include_colab_link": true
    },
    "kernelspec": {
      "name": "python3",
      "display_name": "Python 3"
    },
    "language_info": {
      "name": "python"
    }
  },
  "cells": [
    {
      "cell_type": "markdown",
      "metadata": {
        "id": "view-in-github",
        "colab_type": "text"
      },
      "source": [
        "<a href=\"https://colab.research.google.com/github/tomasborrella/TheValley/blob/main/notebooks/spark02/Spark_Dataframes_otras_transformaciones.ipynb\" target=\"_parent\"><img src=\"https://colab.research.google.com/assets/colab-badge.svg\" alt=\"Open In Colab\"/></a>"
      ]
    },
    {
      "cell_type": "markdown",
      "metadata": {
        "id": "SeQLYo17pIcm"
      },
      "source": [
        "# Spark DataFrames: otras transformaciones\n",
        "\n",
        "*   Pivot\n",
        "*   Agregaciones y funciones de ventana\n",
        "*   Joins\n",
        "\n",
        "Notebook por [Tomás Borrella Martín](https://www.linkedin.com/in/tomasborrella/).\n",
        "\n",
        "### Enlaces de interés\n",
        "*   [Slides de presentación](https://docs.google.com/presentation/d/1MotclVSrLoykWogG-WwLa-DbPNvVgHBaGuZJX2Gfc4o/edit?usp=sharing)"
      ]
    },
    {
      "cell_type": "markdown",
      "metadata": {
        "id": "tnun5POxh_hX"
      },
      "source": [
        "# 1. Instalación Spark"
      ]
    },
    {
      "cell_type": "code",
      "metadata": {
        "id": "uuJjskSn9KeV"
      },
      "source": [
        "# Install JAVA\n",
        "!apt-get install openjdk-8-jdk-headless -qq > /dev/null"
      ],
      "execution_count": null,
      "outputs": []
    },
    {
      "cell_type": "code",
      "metadata": {
        "id": "1oTR3cFa9ORq"
      },
      "source": [
        "# Install Spark\n",
        "!wget -q https://downloads.apache.org/spark/spark-3.1.1/spark-3.1.1-bin-hadoop2.7.tgz\n",
        "!tar xf spark-3.1.1-bin-hadoop2.7.tgz"
      ],
      "execution_count": null,
      "outputs": []
    },
    {
      "cell_type": "code",
      "metadata": {
        "id": "ZZPnAX8i9XDc"
      },
      "source": [
        "# Install findspark\n",
        "!pip install -q findspark"
      ],
      "execution_count": null,
      "outputs": []
    },
    {
      "cell_type": "code",
      "metadata": {
        "id": "OI4QagUl9fy7"
      },
      "source": [
        "# Environment variables\n",
        "import os \n",
        "os.environ[\"JAVA_HOME\"] = \"/usr/lib/jvm/java-8-openjdk-amd64\"\n",
        "os.environ[\"SPARK_HOME\"] = \"/content/spark-3.1.1-bin-hadoop2.7\""
      ],
      "execution_count": null,
      "outputs": []
    },
    {
      "cell_type": "code",
      "metadata": {
        "id": "Sov8DPmr9nhE"
      },
      "source": [
        "# Find spark\n",
        "import findspark\n",
        "findspark.init()"
      ],
      "execution_count": null,
      "outputs": []
    },
    {
      "cell_type": "code",
      "metadata": {
        "id": "4g4Frp0P9q5c",
        "colab": {
          "base_uri": "https://localhost:8080/"
        },
        "outputId": "27b9c144-466c-4e39-b47b-8d35a7225b1d"
      },
      "source": [
        "# PySpark \n",
        "!pip install pyspark==3.1.1"
      ],
      "execution_count": null,
      "outputs": [
        {
          "output_type": "stream",
          "text": [
            "Collecting pyspark==3.1.1\n",
            "\u001b[?25l  Downloading https://files.pythonhosted.org/packages/45/b0/9d6860891ab14a39d4bddf80ba26ce51c2f9dc4805e5c6978ac0472c120a/pyspark-3.1.1.tar.gz (212.3MB)\n",
            "\u001b[K     |████████████████████████████████| 212.3MB 64kB/s \n",
            "\u001b[?25hCollecting py4j==0.10.9\n",
            "\u001b[?25l  Downloading https://files.pythonhosted.org/packages/9e/b6/6a4fb90cd235dc8e265a6a2067f2a2c99f0d91787f06aca4bcf7c23f3f80/py4j-0.10.9-py2.py3-none-any.whl (198kB)\n",
            "\u001b[K     |████████████████████████████████| 204kB 19.0MB/s \n",
            "\u001b[?25hBuilding wheels for collected packages: pyspark\n",
            "  Building wheel for pyspark (setup.py) ... \u001b[?25l\u001b[?25hdone\n",
            "  Created wheel for pyspark: filename=pyspark-3.1.1-py2.py3-none-any.whl size=212767604 sha256=8e4d21f5f0602b5cccb4f80ed44b9b882500053578112468228629e0a21218e7\n",
            "  Stored in directory: /root/.cache/pip/wheels/0b/90/c0/01de724414ef122bd05f056541fb6a0ecf47c7ca655f8b3c0f\n",
            "Successfully built pyspark\n",
            "Installing collected packages: py4j, pyspark\n",
            "Successfully installed py4j-0.10.9 pyspark-3.1.1\n"
          ],
          "name": "stdout"
        }
      ]
    },
    {
      "cell_type": "markdown",
      "metadata": {
        "id": "SpQZYF3RieR1"
      },
      "source": [
        "# 2. Spark Session\n",
        "Punto de entrada de la aplicación de Spark"
      ]
    },
    {
      "cell_type": "code",
      "metadata": {
        "id": "haPHnvwf9-Mz"
      },
      "source": [
        "# Imports\n",
        "from pyspark.sql import SparkSession"
      ],
      "execution_count": null,
      "outputs": []
    },
    {
      "cell_type": "code",
      "metadata": {
        "id": "BuhcSzKETDLL"
      },
      "source": [
        "# Create Spark Session\n",
        "spark = (SparkSession\n",
        "         .builder\n",
        "         .master(\"local[*]\")\n",
        "         .appName(\"Spark Dataframes\")\n",
        "         .getOrCreate()\n",
        ")"
      ],
      "execution_count": null,
      "outputs": []
    },
    {
      "cell_type": "markdown",
      "metadata": {
        "id": "j60XqXTjhF62"
      },
      "source": [
        "# Pivot"
      ]
    },
    {
      "cell_type": "markdown",
      "metadata": {
        "id": "gI7Pun7VlEO6"
      },
      "source": [
        "## Datos para los ejemplos\n",
        "\n",
        "Un dataset de mucha actualidad, con información de las vacunas suministradas en cada provincia para cada día."
      ]
    },
    {
      "cell_type": "code",
      "metadata": {
        "id": "JiJqaa3FFfti"
      },
      "source": [
        "df_vacunas = spark.createDataFrame([\n",
        "  (100, \"Moderna\", \"Madrid\", \"CM\", 20210101),\n",
        "\t(200, \"Pfizer\", \"Madrid\", \"CM\", 20210101),\n",
        "\t(50, \"Moderna\", \"Guadalajara\", \"CLM\", 20210101),\n",
        "\t(100, \"Pfizer\", \"Guadalajara\", \"CLM\", 20210101),\n",
        "\t(50, \"Moderna\", \"Cuenca\", \"CLM\", 20210101),\n",
        "\t(100, \"Pfizer\", \"Cuenca\", \"CLM\", 20210101),\n",
        "\t(150, \"Moderna\", \"Burgos\", \"CYL\", 20210101),\n",
        "\t(300, \"Pfizer\", \"Burgos\", \"CYL\", 20210101),\n",
        "\t(70, \"Moderna\", \"Segovia\", \"CYL\", 20210101),\n",
        "\t(140, \"Pfizer\", \"Segovia\", \"CYL\", 20210101),\n",
        "\t(70, \"Moderna\", \"Soria\", \"CYL\", 20210101),\n",
        "\t(140, \"Pfizer\", \"Soria\", \"CYL\", 20210101),\n",
        "\t(100, \"Moderna\", \"Madrid\", \"CM\", 20210102),\n",
        "\t(400, \"Pfizer\", \"Madrid\", \"CM\", 20210102),\n",
        "\t(100, \"Moderna\", \"Guadalajara\", \"CLM\", 20210102),\n",
        "\t(200, \"Pfizer\", \"Guadalajara\", \"CLM\", 20210102),\n",
        "\t(100, \"Moderna\", \"Cuenca\", \"CLM\", 20210102),\n",
        "\t(200, \"Pfizer\", \"Cuenca\", \"CLM\", 20210102),\n",
        "\t(300, \"Moderna\", \"Burgos\", \"CYL\", 20210102),\n",
        "\t(600, \"Pfizer\", \"Burgos\", \"CYL\", 20210102),\n",
        "\t(140, \"Moderna\", \"Segovia\", \"CYL\", 20210102),\n",
        "\t(280, \"Pfizer\", \"Segovia\", \"CYL\", 20210102),\n",
        "\t(70, \"Moderna\", \"Soria\", \"CYL\", 20210102),\n",
        "\t(140, \"Pfizer\", \"Soria\", \"CYL\", 20210102) \n",
        "], [\"numero\", \"marca\", \"provincia\", \"comunidad\", \"fecha\"])\n",
        "\n",
        "df_vacunas.show(30)"
      ],
      "execution_count": null,
      "outputs": []
    },
    {
      "cell_type": "markdown",
      "metadata": {
        "id": "72VEOF96HsYH"
      },
      "source": [
        "## Pivotar\n",
        "\n",
        "Mostrar el número de vacunas de para cada comunidad y día desglosadas por marca"
      ]
    },
    {
      "cell_type": "markdown",
      "metadata": {
        "id": "d7B2VAuDK2Oz"
      },
      "source": [
        "Los pasos para pivotar son:\n",
        "\n",
        "1. hacer una agrupación\n",
        "2. pivotar por una columna (cuyos valores pasarán a ser columnas)\n",
        "3. definir una agrupación sobre ese \"giro\""
      ]
    },
    {
      "cell_type": "code",
      "metadata": {
        "id": "NTek_omchspR"
      },
      "source": [
        "df_vacunas_por_comunidades = df_vacunas.groupby(\"comunidad\", \"fecha\").pivot(\"marca\").sum(\"numero\")\n",
        "\n",
        "df_vacunas_por_comunidades.show()"
      ],
      "execution_count": null,
      "outputs": []
    },
    {
      "cell_type": "markdown",
      "metadata": {
        "id": "mWw0KPJyHu_s"
      },
      "source": [
        "## Despivotar\n",
        "\n",
        "Para despivotar se puede usar la función `stack`.\n",
        "\n",
        "[Documentación oficial de stack](https://spark.apache.org/docs/latest/api/sql/index.html#stack)\n",
        "\n",
        "El número que le indicamos es el numero de columnas y los valores que vamos a trasladar (en este ejemplo solo tenemos dos marcas que hemos trasladado) y a continuaciones cada \"nombre de columna\" seguido de su valor:"
      ]
    },
    {
      "cell_type": "code",
      "metadata": {
        "id": "E57fwILcIXIk"
      },
      "source": [
        "from pyspark.sql import functions as F\n",
        "\n",
        "unpivotExpr = \"stack(2, 'Moderna', Moderna, 'Pfizer', Pfizer) as (Marca, Numero)\"\n",
        "\n",
        "df_unpivot = df_vacunas_por_comunidades.select(\"Comunidad\", \n",
        "                                               F.expr(unpivotExpr),\n",
        "                                               \"fecha\")\n",
        "df_unpivot.show()"
      ],
      "execution_count": null,
      "outputs": []
    },
    {
      "cell_type": "markdown",
      "metadata": {
        "id": "w6IVXxo0jaTW"
      },
      "source": [
        "## Ejercicio propuesto\n",
        "\n",
        "Obtener el número total de vacunas administradas desglosadas por cada una de las provincias. El resultado tiene que ser una tabla como la siguiente:"
      ]
    },
    {
      "cell_type": "markdown",
      "metadata": {
        "id": "Qb1AVaSJJ9a5"
      },
      "source": [
        "![image.png](data:image/png;base64,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)"
      ]
    },
    {
      "cell_type": "markdown",
      "metadata": {
        "id": "Xss49ObAKOGN"
      },
      "source": [
        "## Solución"
      ]
    },
    {
      "cell_type": "code",
      "metadata": {
        "id": "i9340948H-wT"
      },
      "source": [
        "!echo \"ZGZfdmFjdW5hcy5ncm91cGJ5KCJtYXJjYSIpLnBpdm90KCJwcm92aW5jaWEiKS5zdW0oIm51bWVybyIpLnNob3coKQ==\" | base64 --decode"
      ],
      "execution_count": null,
      "outputs": []
    },
    {
      "cell_type": "markdown",
      "metadata": {
        "id": "eyYsNSfrMZBG"
      },
      "source": [
        "# Agregaciones y funciones de ventana\n",
        "\n",
        "Normalmente queremos hacer trasformaciones que tengan en cuenta varios registros a la vez, o como hariamos en sql con un *group by*\n",
        "\n",
        "Estos casos los podemos abordar de dos maneras en función del resultado que queramos obtener:\n",
        "\n",
        "* Si solamente queremos tener una fila para toda la agrupacion que hagamos => **agg**\n",
        "* Si queremos que para cada uno de los registros tengamos una nueva columna con el resultado de la agrupación => **window function**"
      ]
    },
    {
      "cell_type": "code",
      "metadata": {
        "id": "wud3O4iBUM8R"
      },
      "source": [
        "df_personas = spark.createDataFrame([\n",
        "  (\"Cristian\", 28, \"Guadalajara\"),\n",
        "  (\"Rafa\", 40, \"Madrid\"),\n",
        "  (\"Gonzalo\", 26, \"Mostoles\"),\n",
        "  (\"Alex\", 25, \"Mostoles\"),\n",
        "  (\"Susana\", 18, \"Madrid\"),\n",
        "  (\"David\", 29, \"Guadalajara\")\n",
        "], [\"nombre\", \"edad\", \"localidad\"])\n",
        "\n",
        "df_personas.show()"
      ],
      "execution_count": null,
      "outputs": []
    },
    {
      "cell_type": "markdown",
      "metadata": {
        "id": "LNjQvFqdU1-p"
      },
      "source": [
        "### Agregación\n",
        "\n",
        "Ya vimos un ejemplo en un [Notebook previo](https://colab.research.google.com/github/tomasborrella/TheValley/blob/main/notebooks/spark02/Spark_DataFrames_funciones_y_transformaciones_basicas.ipynb), en el ejemplo del \"Top 5 de años con más buques\".\n",
        "\n",
        "[Documentación oficial de agg](https://spark.apache.org/docs/latest/api/python/reference/api/pyspark.sql.GroupedData.agg.html#pyspark.sql.GroupedData.agg)\n",
        "\n",
        "Ejemplo: Calcular la edad máxima por localidad.\n"
      ]
    },
    {
      "cell_type": "code",
      "metadata": {
        "id": "N2lPGNkQU3_E"
      },
      "source": [
        "    (df_personas\n",
        "     .groupby(F.col(\"localidad\"))\n",
        "     .agg(F.max(F.col(\"edad\")))\n",
        "    ).show()"
      ],
      "execution_count": null,
      "outputs": []
    },
    {
      "cell_type": "markdown",
      "metadata": {
        "id": "4Mq_wtNbV3iU"
      },
      "source": [
        "### Funciones de ventana\n",
        "\n",
        "Ejemplo: Añadir la edad máxima por localidad a todas las filas del DataFrame"
      ]
    },
    {
      "cell_type": "code",
      "metadata": {
        "id": "D4CYbWqFV943"
      },
      "source": [
        "from pyspark.sql.window import Window\n",
        "\n",
        "ventana_localidad =  Window.partitionBy(F.col(\"localidad\"))\n",
        "\n",
        "(df_personas\n",
        " .withColumn(\"edad máxima en la localidad\", F.max(F.col(\"edad\")).over(ventana_localidad))\n",
        " .orderBy(F.col(\"edad máxima en la localidad\").desc())\n",
        ").show()"
      ],
      "execution_count": null,
      "outputs": []
    },
    {
      "cell_type": "markdown",
      "metadata": {
        "id": "ZX5F0K-lY8Tb"
      },
      "source": [
        "### Ejercicio propuesto\n",
        "\n",
        "Crear una nueva columna con la posición que cada persona ocupa en el ranking de personas mayores en su propia localidad.\n",
        "\n",
        "Sin funciones de ventana es algo muy tedioso porque tendríamos que estar haciendo un groupBy por cada una de las localidades y luego ordenar los resultados, para luego tener que hacer un join con el DataFrame previo y los resultados parciales de cada localidad...\n",
        "\n",
        "Pero con funciones de ventana es bastante sencillo.\n",
        "\n",
        "Pistas:\n",
        "\n",
        "*   Al crear la ventane le podemos decir que nos las ordene por un campo diferente al que estamos agrupando, por ejemplo:\n",
        "`Window.partitionBy(F.col(\"campo_agrupacion\")).orderBy(F.col(\"campo_orden\").desc())`\n",
        "\n",
        "*   Existe una función llamada [`rank`](https://spark.apache.org/docs/latest/api/python/reference/api/pyspark.sql.functions.rank.html) que podemos usar sobre una función de ventana y nos devuelve la posición de esa fila en el ranking de su ventana."
      ]
    },
    {
      "cell_type": "markdown",
      "metadata": {
        "id": "hj0rZnFJnyJZ"
      },
      "source": [
        "## Solución"
      ]
    },
    {
      "cell_type": "code",
      "metadata": {
        "id": "-OrcHInynfS6"
      },
      "source": [
        "!echo \"dmVudGFuYV9sb2NhbGlkYWRfb3JkZW5hZGFfcG9yX2VkYWQgPSAgV2luZG93LnBhcnRpdGlvbkJ5KEYuY29sKCJsb2NhbGlkYWQiKSkub3JkZXJCeShGLmNvbCgiZWRhZCIpLmRlc2MoKSkKCihkZl9wZXJzb25hcwogLndpdGhDb2x1bW4oInBvc2ljacOzbiByYW5raW5nIG1heW9yZXMgbG9jYWxpZGFkIiwgRi5yYW5rKCkub3Zlcih2ZW50YW5hX2xvY2FsaWRhZF9vcmRlbmFkYV9wb3JfZWRhZCkpCikuc2hvdygp\" | base64 --decode"
      ],
      "execution_count": null,
      "outputs": []
    },
    {
      "cell_type": "markdown",
      "metadata": {
        "id": "4jFI6VDrMazv"
      },
      "source": [
        "# Joins\n",
        "\n",
        "Las formas básicas de unir DataFrames son las que ya conocemos:"
      ]
    },
    {
      "cell_type": "markdown",
      "metadata": {
        "id": "IjTl7ysDFk7h"
      },
      "source": [
        "![image.png](data:image/png;base64,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)"
      ]
    },
    {
      "cell_type": "markdown",
      "metadata": {
        "id": "naPTZpghFoMW"
      },
      "source": [
        "## Datos para los ejemplos"
      ]
    },
    {
      "cell_type": "code",
      "metadata": {
        "id": "Rrj681fEGFuA"
      },
      "source": [
        "df_codigos_provincias = spark.createDataFrame([\n",
        "  (\"Madrid\", 28),\n",
        "\t(\"Guadalajara\", 19),\n",
        "\t(\"Cuenca\", 16),\n",
        "\t(\"Burgos\", 9),\n",
        "\t(\"Segovia\", 40),\n",
        "\t(\"Vallalodid\", 47)\n",
        "], [\"provincia\", \"codigo\"])\n",
        "\n",
        "df_codigos_provincias.show()"
      ],
      "execution_count": null,
      "outputs": []
    },
    {
      "cell_type": "markdown",
      "metadata": {
        "id": "p9_0cmv9GS4M"
      },
      "source": [
        "## Inner\n",
        "\n",
        "Es el modo por defecto de Spark a la hora de hacer joins.\n",
        "\n",
        "Va a buscar en las dos tablas aquellas en las que tengamos la provincia en comun y solo para esos casos nos va a devolver resultados.\n",
        "\n",
        "Es decir, no vamos a tener valores a null en nuestro DataFrame de salida."
      ]
    },
    {
      "cell_type": "code",
      "metadata": {
        "id": "qnTuVGjxGod4"
      },
      "source": [
        "df_vacunas.join(df_codigos_provincias, on=\"provincia\").show()"
      ],
      "execution_count": null,
      "outputs": []
    },
    {
      "cell_type": "markdown",
      "metadata": {
        "id": "lGzNNRKNGXKv"
      },
      "source": [
        "## Left / Right\n",
        "\n",
        "En este caso, vamos a tener que indicar el tipo del join con el parámetro `how`.\n",
        "\n",
        "Dependiendo de si es left o rigth tendremos todos los datos de un Dataframe y puede aparecer valores nulos si no hay match."
      ]
    },
    {
      "cell_type": "markdown",
      "metadata": {
        "id": "HrfI1GFRHvh1"
      },
      "source": [
        "### Ejemplo Left"
      ]
    },
    {
      "cell_type": "code",
      "metadata": {
        "id": "62KE3D-4HBdV"
      },
      "source": [
        "df_vacunas.join(df_codigos_provincias, on=\"provincia\", how=\"left\").show(30)"
      ],
      "execution_count": null,
      "outputs": []
    },
    {
      "cell_type": "markdown",
      "metadata": {
        "id": "dbShhurCH-yQ"
      },
      "source": [
        "Aparece Soria en la tabla (porque estaba en el DataFrame de la izquierda) pero sus valores para el codigo setán a  nulos, ya que en nuestra tabla de codigos de provincias no tenemos recogido su valor."
      ]
    },
    {
      "cell_type": "markdown",
      "metadata": {
        "id": "5ap0EDdWH3kB"
      },
      "source": [
        "### Ejemplo Right"
      ]
    },
    {
      "cell_type": "code",
      "metadata": {
        "id": "pXHRYRyeHKI4"
      },
      "source": [
        "df_vacunas.join(df_codigos_provincias, on=\"provincia\", how=\"right\").show(30)"
      ],
      "execution_count": null,
      "outputs": []
    },
    {
      "cell_type": "markdown",
      "metadata": {
        "id": "3AaEJ-9vGbC5"
      },
      "source": [
        "## Outer\n",
        "\n",
        "Se usa para mantener todos los registros de ambos DataFrames junto con los valores nulos asociados en las respectivas tablas izquierda / derecha. "
      ]
    },
    {
      "cell_type": "code",
      "metadata": {
        "id": "yWyDUml2QlBe"
      },
      "source": [
        "df_vacunas.join(df_codigos_provincias, on=\"provincia\", how=\"outer\").show(30)"
      ],
      "execution_count": null,
      "outputs": []
    },
    {
      "cell_type": "markdown",
      "metadata": {
        "id": "jN-7xYkZQtA2"
      },
      "source": [
        "Se ve que 'Valladolid' no tiene información de la tabla de vacunas, y que 'Soria', por el contrario, lo que no tiene es información de la tabla de códigos de provincias."
      ]
    },
    {
      "cell_type": "markdown",
      "metadata": {
        "id": "Y8jV76GIGg_g"
      },
      "source": [
        "## Cross\n",
        "\n",
        "Importante **evitar siempre que no sea estrictamente necesario y no haya otra alternativa**.\n",
        "\n",
        "¿Por qué?\n",
        "\n",
        "Cuando hacemos un join con cross se calcula un producto cartesiano de las dos tablas. Digamos que: \n",
        "\n",
        "* la tabla 1 tiene m filas \n",
        "* la tabla 2 tiene n filas\n",
        "* Esto daría (m * n) filas\n",
        "\n",
        "Por ejemplo  una pequeña tabla de **10.000 registros** unida con una tabla de **1.000 registros** daría una explosión de **10.000.000 de registros**.\n"
      ]
    },
    {
      "cell_type": "code",
      "metadata": {
        "id": "mFFXjwmwSkdd"
      },
      "source": [
        "print(f\"Filas en df_vacunas: {df_vacunas.count()}\")\n",
        "print(f\"Filas en df_codigos_provincias: {df_codigos_provincias.count()}\")\n",
        "print(f\"Filas en el cross join: {df_vacunas.crossJoin(df_codigos_provincias).count()}\")"
      ],
      "execution_count": null,
      "outputs": []
    },
    {
      "cell_type": "markdown",
      "metadata": {
        "id": "9XSc9RBqsQgb"
      },
      "source": [
        "# Spark Stop"
      ]
    },
    {
      "cell_type": "code",
      "metadata": {
        "id": "hxHm2F98TkLx"
      },
      "source": [
        "spark.stop()"
      ],
      "execution_count": null,
      "outputs": []
    }
  ]
}