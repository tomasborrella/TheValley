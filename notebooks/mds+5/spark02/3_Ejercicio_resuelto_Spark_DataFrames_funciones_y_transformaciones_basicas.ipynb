{
  "nbformat": 4,
  "nbformat_minor": 0,
  "metadata": {
    "colab": {
      "provenance": [],
      "collapsed_sections": [
        "SpQZYF3RieR1"
      ],
      "toc_visible": true,
      "authorship_tag": "ABX9TyNlqTRZRslyGX/f6Bn3BOJB",
      "include_colab_link": true
    },
    "kernelspec": {
      "name": "python3",
      "display_name": "Python 3"
    },
    "language_info": {
      "name": "python"
    }
  },
  "cells": [
    {
      "cell_type": "markdown",
      "metadata": {
        "id": "view-in-github",
        "colab_type": "text"
      },
      "source": [
        "<a href=\"https://colab.research.google.com/github/tomasborrella/TheValley/blob/main/notebooks/mds%2B5/spark02/3_Ejercicio_resuelto_Spark_DataFrames_funciones_y_transformaciones_basicas.ipynb\" target=\"_parent\"><img src=\"https://colab.research.google.com/assets/colab-badge.svg\" alt=\"Open In Colab\"/></a>"
      ]
    },
    {
      "cell_type": "markdown",
      "metadata": {
        "id": "SeQLYo17pIcm"
      },
      "source": [
        "# Ejercicio resuelto de Spark DataFrames: Funciones y transformaciones básicas\n",
        "\n",
        "Notebook por [Tomás Borrella Martín](https://www.linkedin.com/in/tomasborrella/).\n",
        "\n",
        "### Enlaces de interés\n",
        "*   [Slides de presentación](https://docs.google.com/presentation/d/1fpzzxMSECiA7bhcloTDLfvny-ZoM8k98cV0ZzZIAx-8/edit?usp=sharing)"
      ]
    },
    {
      "cell_type": "markdown",
      "metadata": {
        "id": "rXrjapDgwMyl"
      },
      "source": [
        "# Ejercicio propuesto\n",
        "\n",
        "Sobre unos dataset con tweets (tweets.json) obtener:\n",
        "\n",
        "1.   Campos id, created_at y text de los diez primeros tweets del dataset.\n",
        "2.   Campos id, name (del usuario) y location (del usuario).\n",
        "3.   Los 10 usuarios con más amigos (campo friends_count).\n",
        "4.   Los 10 usuarios con más tweets."
      ]
    },
    {
      "cell_type": "markdown",
      "metadata": {
        "id": "3O6muhg9YVOc"
      },
      "source": [
        "El dataset está subido a Google Drive: [Enlace](https://drive.google.com/file/d/18np5pJbHy1e1Dr1h17wTgZTb6-gJ23RJ/view?usp=sharing)\n",
        "\n",
        "Para descargarlos se puede usar wget de esta forma:\n",
        "\n",
        "```\n",
        "# Descargamos los datos al entorno de Colab\n",
        "!mkdir -p /content/data\n",
        "!wget -O /content/data/tweets.json 'https://drive.google.com/uc?id=18np5pJbHy1e1Dr1h17wTgZTb6-gJ23RJ'\n",
        "```\n",
        "\n"
      ]
    },
    {
      "cell_type": "markdown",
      "metadata": {
        "id": "tnun5POxh_hX"
      },
      "source": [
        "# 1. Instalación Spark"
      ]
    },
    {
      "cell_type": "code",
      "metadata": {
        "id": "uuJjskSn9KeV"
      },
      "source": [
        "# Install JAVA\n",
        "!apt-get install openjdk-8-jdk-headless -qq > /dev/null"
      ],
      "execution_count": 1,
      "outputs": []
    },
    {
      "cell_type": "code",
      "metadata": {
        "id": "1oTR3cFa9ORq"
      },
      "source": [
        "# Install Spark\n",
        "!wget -q https://downloads.apache.org/spark/spark-3.2.4/spark-3.2.4-bin-hadoop2.7.tgz\n",
        "!tar xf spark-3.2.4-bin-hadoop2.7.tgz"
      ],
      "execution_count": 2,
      "outputs": []
    },
    {
      "cell_type": "code",
      "metadata": {
        "id": "ZZPnAX8i9XDc"
      },
      "source": [
        "# Install findspark\n",
        "!pip install -q findspark"
      ],
      "execution_count": 3,
      "outputs": []
    },
    {
      "cell_type": "code",
      "metadata": {
        "id": "OI4QagUl9fy7"
      },
      "source": [
        "# Environment variables\n",
        "import os \n",
        "os.environ[\"JAVA_HOME\"] = \"/usr/lib/jvm/java-8-openjdk-amd64\"\n",
        "os.environ[\"SPARK_HOME\"] = \"/content/spark-3.2.4-bin-hadoop2.7\""
      ],
      "execution_count": 4,
      "outputs": []
    },
    {
      "cell_type": "code",
      "metadata": {
        "id": "Sov8DPmr9nhE"
      },
      "source": [
        "# Find spark\n",
        "import findspark\n",
        "findspark.init()"
      ],
      "execution_count": 5,
      "outputs": []
    },
    {
      "cell_type": "code",
      "metadata": {
        "id": "4g4Frp0P9q5c"
      },
      "source": [
        "# PySpark \n",
        "!pip install pyspark==3.2.4"
      ],
      "execution_count": null,
      "outputs": []
    },
    {
      "cell_type": "markdown",
      "metadata": {
        "id": "SpQZYF3RieR1"
      },
      "source": [
        "# 2. Spark Session\n",
        "Punto de entrada de la aplicación de Spark"
      ]
    },
    {
      "cell_type": "code",
      "metadata": {
        "id": "haPHnvwf9-Mz"
      },
      "source": [
        "# Imports\n",
        "from pyspark.sql import SparkSession"
      ],
      "execution_count": 7,
      "outputs": []
    },
    {
      "cell_type": "code",
      "metadata": {
        "id": "BuhcSzKETDLL"
      },
      "source": [
        "# Create Spark Session\n",
        "spark = (SparkSession\n",
        "         .builder\n",
        "         .master(\"local[*]\")\n",
        "         .appName(\"Spark Dataframes\")\n",
        "         .getOrCreate()\n",
        ")"
      ],
      "execution_count": 8,
      "outputs": []
    },
    {
      "cell_type": "markdown",
      "metadata": {
        "id": "nrLc1SbZqkE_"
      },
      "source": [
        "# Datos"
      ]
    },
    {
      "cell_type": "code",
      "metadata": {
        "id": "shskq4JD9bLd"
      },
      "source": [
        "# Descargamos los datos al entorno de Colab\n",
        "!mkdir -p /content/data\n",
        "!wget -O /content/data/tweets.json 'https://drive.google.com/uc?id=18np5pJbHy1e1Dr1h17wTgZTb6-gJ23RJ' "
      ],
      "execution_count": null,
      "outputs": []
    },
    {
      "cell_type": "code",
      "metadata": {
        "id": "0mz7l2jHlDsV"
      },
      "source": [
        "df = spark.read.json('/content/data/tweets.json')"
      ],
      "execution_count": 10,
      "outputs": []
    },
    {
      "cell_type": "markdown",
      "metadata": {
        "id": "4rdQ0cTlF2Hb"
      },
      "source": [
        "## Explorar datos"
      ]
    },
    {
      "cell_type": "markdown",
      "metadata": {
        "id": "LcjQrkeSBDa9"
      },
      "source": [
        "Mostramos información de su esquema con printSchema"
      ]
    },
    {
      "cell_type": "code",
      "metadata": {
        "id": "BwOaqtYP-HdX"
      },
      "source": [
        "df.printSchema()"
      ],
      "execution_count": null,
      "outputs": []
    },
    {
      "cell_type": "markdown",
      "metadata": {
        "id": "GkNvfeO6n_Qa"
      },
      "source": [
        "Mostramos los 5 primeros registros"
      ]
    },
    {
      "cell_type": "code",
      "metadata": {
        "id": "EZAvancNtG2o"
      },
      "source": [
        "df.show(5)"
      ],
      "execution_count": null,
      "outputs": []
    },
    {
      "cell_type": "markdown",
      "metadata": {
        "id": "mrOC26wQro6M"
      },
      "source": [
        "# 1. Campos id, created_at y text de los diez primeros tweets del dataset"
      ]
    },
    {
      "cell_type": "code",
      "metadata": {
        "id": "JcS1xIN8FgvM"
      },
      "source": [
        "(df\n",
        " .select(df['id'], df['created_at'], df['text'])\n",
        " .limit(10)\n",
        " .show()\n",
        ")"
      ],
      "execution_count": null,
      "outputs": []
    },
    {
      "cell_type": "markdown",
      "metadata": {
        "id": "Iip6qNlqFZGS"
      },
      "source": [
        "# 2. Campos id, name (del usuario) y location (del usuario)"
      ]
    },
    {
      "cell_type": "code",
      "metadata": {
        "id": "GL8K6PDwqMpF"
      },
      "source": [
        "df.select('user').printSchema()"
      ],
      "execution_count": null,
      "outputs": []
    },
    {
      "cell_type": "code",
      "metadata": {
        "id": "0BJwNXbfsaOf"
      },
      "source": [
        "(df\n",
        " .select(df['id'], df['user']['name'], df['user']['location'])\n",
        " .limit(10)\n",
        " .show()\n",
        ")"
      ],
      "execution_count": null,
      "outputs": []
    },
    {
      "cell_type": "code",
      "metadata": {
        "id": "d8_tADiko3FN"
      },
      "source": [
        "(df\n",
        " .select(df['id'], df['user.name'], df['user.location'])\n",
        " .limit(10)\n",
        " .show()\n",
        ")"
      ],
      "execution_count": null,
      "outputs": []
    },
    {
      "cell_type": "markdown",
      "metadata": {
        "id": "FH9gmiXnGUsq"
      },
      "source": [
        "# 3. Los 10 usuarios con más amigos (campo friends_count)"
      ]
    },
    {
      "cell_type": "code",
      "metadata": {
        "id": "T9aDTMw1-OoT"
      },
      "source": [
        "from pyspark.sql import functions as F"
      ],
      "execution_count": 17,
      "outputs": []
    },
    {
      "cell_type": "code",
      "metadata": {
        "id": "vKUNh6Mns9FQ"
      },
      "source": [
        "(df\n",
        " .groupBy(df['user']['name'].alias('user_name'))\n",
        " .agg(F.max(df['user']['friends_count']).alias('friends_count_max'))\n",
        " .orderBy('friends_count_max', ascending=False)\n",
        " .limit(10)\n",
        " .show()\n",
        ")"
      ],
      "execution_count": null,
      "outputs": []
    },
    {
      "cell_type": "markdown",
      "metadata": {
        "id": "QJefaBzFGw7z"
      },
      "source": [
        "# Los 10 usuarios con más tweets"
      ]
    },
    {
      "cell_type": "code",
      "metadata": {
        "id": "FDxjOIeS-tAt"
      },
      "source": [
        "(df\n",
        " .groupBy(df['user']['name'].alias('user_name'))\n",
        " .agg(F.count(df['user']['name']).alias('tweets_count'))\n",
        " .orderBy('tweets_count', ascending=False)\n",
        " .limit(10)\n",
        " .show()\n",
        ")"
      ],
      "execution_count": null,
      "outputs": []
    },
    {
      "cell_type": "markdown",
      "metadata": {
        "id": "9XSc9RBqsQgb"
      },
      "source": [
        "# Spark Stop"
      ]
    },
    {
      "cell_type": "code",
      "metadata": {
        "id": "hxHm2F98TkLx"
      },
      "source": [
        "spark.stop()"
      ],
      "execution_count": 20,
      "outputs": []
    }
  ]
}