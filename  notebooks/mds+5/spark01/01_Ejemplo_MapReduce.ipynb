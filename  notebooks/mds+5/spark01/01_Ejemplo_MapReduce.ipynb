{
  "nbformat": 4,
  "nbformat_minor": 0,
  "metadata": {
    "colab": {
      "provenance": [],
      "authorship_tag": "ABX9TyPkOa7Wgq7UxPrESs8xq4Dp",
      "include_colab_link": true
    },
    "kernelspec": {
      "name": "python3",
      "display_name": "Python 3"
    },
    "language_info": {
      "name": "python"
    }
  },
  "cells": [
    {
      "cell_type": "markdown",
      "metadata": {
        "id": "view-in-github",
        "colab_type": "text"
      },
      "source": [
        "<a href=\"https://colab.research.google.com/github/tomasborrella/TheValley/blob/main/%C2%A0notebooks/mds%2B5/spark01/01_Ejemplo_MapReduce.ipynb\" target=\"_parent\"><img src=\"https://colab.research.google.com/assets/colab-badge.svg\" alt=\"Open In Colab\"/></a>"
      ]
    },
    {
      "cell_type": "markdown",
      "metadata": {
        "id": "cYic-d9q_qZ4"
      },
      "source": [
        "# Ejemplo de MapReduce con Python\n",
        "\n",
        "Notebook por [Tomás Borrella Martín](https://www.linkedin.com/in/tomasborrella/).\n",
        "\n",
        "### Enlaces de interés\n",
        "*   [Slides de presentación](https://docs.google.com/presentation/d/1T9_Ishq6kEDG0bVYEkNIVNn53qZZF8wl-WOj1Uyqqz4/edit?usp=sharing)"
      ]
    },
    {
      "cell_type": "markdown",
      "metadata": {
        "id": "i8YNep9JB4ca"
      },
      "source": [
        "## 1. Datos\n",
        "Descargamos un archivo que contiene una canción en cada fila (simplificado para el ejemplo).\n",
        "\n",
        "NOTA: En un notebook, \"!\" ejecuta comandos del sistema desde dentro del notebook."
      ]
    },
    {
      "cell_type": "code",
      "metadata": {
        "id": "Y1DkCsdfHKPZ"
      },
      "source": [
        "! wget -P /content/data 'https://raw.githubusercontent.com/tomasborrella/TheValley/main/data/spark01/simple_songs_log.txt' "
      ],
      "execution_count": null,
      "outputs": []
    },
    {
      "cell_type": "markdown",
      "metadata": {
        "id": "KmPu80WzJVMC"
      },
      "source": [
        "Mostramos el contenido del archivo"
      ]
    },
    {
      "cell_type": "code",
      "metadata": {
        "id": "eYgR75UpJXzc"
      },
      "source": [
        "# Las primeras 5 líneas\n",
        "! head -n 5 /content/data/simple_songs_log.txt"
      ],
      "execution_count": null,
      "outputs": []
    },
    {
      "cell_type": "code",
      "metadata": {
        "id": "WFyzWxSDJySi"
      },
      "source": [
        "# Las últimas 5 líneas\n",
        "! tail -n 5 /content/data/simple_songs_log.txt"
      ],
      "execution_count": null,
      "outputs": []
    },
    {
      "cell_type": "code",
      "metadata": {
        "id": "S3WiIbFxJsYb"
      },
      "source": [
        "# Vemos cuantas líneas tiene en total\n",
        "! wc -l /content/data/simple_songs_log.txt"
      ],
      "execution_count": null,
      "outputs": []
    },
    {
      "cell_type": "markdown",
      "metadata": {
        "id": "XQeBiljDCCzO"
      },
      "source": [
        "## 2. Instalamos la librería que vamos a usar para el ejemplo\n",
        "mrjob es un paquete que permite ejecutar MapReduce jobs con Python\n",
        "\n",
        "[Documentación oficial](https://mrjob.readthedocs.io/en/latest/index.html#)\n"
      ]
    },
    {
      "cell_type": "code",
      "metadata": {
        "id": "T6hLH0G7m5uU"
      },
      "source": [
        "! pip install mrjob"
      ],
      "execution_count": null,
      "outputs": []
    },
    {
      "cell_type": "markdown",
      "metadata": {
        "id": "-piGZyskCgEz"
      },
      "source": [
        "## 3. Creamos el archivo del programa"
      ]
    },
    {
      "cell_type": "code",
      "metadata": {
        "id": "W0Uaj1sYnAKN"
      },
      "source": [
        "%%file wordcount.py\n",
        "# %%file: \"magic function\" que guarda el contenido de una celda a un archivo\n",
        "\n",
        "# Importamos la librería mrjob\n",
        "from mrjob.job import MRJob \n",
        "\n",
        "# Creamos una clase que hereda de MRJob\n",
        "class MRSongCount(MRJob):\n",
        "    \n",
        "    # En la fase de Map cada linea del archivo de texto se lee como una pareja \n",
        "    # clave valor (key, value) que son los parámetros 2 y 3 del \"mapper\".\n",
        "    # En este caso cada linea no contiene ninguna key sino solo el valor, \n",
        "    # por eso usamos _ como segundo parámetro (campo key).\n",
        "\n",
        "    def mapper(self, _, song):\n",
        "        # La salida es una dupla (nombre_cancion, 1) \n",
        "        yield (song, 1)\n",
        "\n",
        "    # En la fase de Reduce se combina cada dupla con la misma clave.\n",
        "    # (en el ejemplo la clave es el nombre de la canción)\n",
        "    # En este caso la forma de combinarlo es sumando, lo que nos dará\n",
        "    # el total de reproducciones de cada canción\n",
        "    \n",
        "    def reducer(self, key, values):\n",
        "        # La salida es una dupla (nombre_cancion, suma_de_reproducciones)\n",
        "        yield (key, sum(values))\n",
        "        \n",
        "if __name__ == \"__main__\":\n",
        "    MRSongCount.run()"
      ],
      "execution_count": null,
      "outputs": []
    },
    {
      "cell_type": "markdown",
      "metadata": {
        "id": "-KiaioTBCoVa"
      },
      "source": [
        "## 4. Ejecutamos el programa"
      ]
    },
    {
      "cell_type": "code",
      "metadata": {
        "id": "eokLfGNlnFia"
      },
      "source": [
        "# Ejecutamos el programa como un comando de terminal\n",
        "! python wordcount.py /content/data/simple_songs_log.txt"
      ],
      "execution_count": null,
      "outputs": []
    },
    {
      "cell_type": "markdown",
      "metadata": {
        "id": "KfczcwskfwW8"
      },
      "source": [
        "# Ejercicio propuesto\n",
        "\n",
        "Crear un nuevo programa MapReduce (wordcount_final.py) que permita contar las canciones del log completo (no de la versión simplificada)\n",
        "\n",
        "Pasos:\n",
        "1. Descargar el archivo completo de la siguiente ruta:\n",
        "https://raw.githubusercontent.com/tomasborrella/TheValley/main/data/spark01/complete_songs_log.txt\n",
        "2. Hacerse una idea con comandos de sistema de cómo es el contenido del archivo.\n",
        "3. Crear el archivo con el programa MapReduce que procese el archivo descargado.\n",
        "4. Ejecutar el programa y comprobar el resultado.\n",
        "\n",
        "Pista: Solo es necesario añadir un pequeño preprocesado en la fase de Map antes de devolver la tupla."
      ]
    }
  ]
}